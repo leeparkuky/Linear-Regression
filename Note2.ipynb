{
 "cells": [
  {
   "cell_type": "markdown",
   "metadata": {},
   "source": [
    "### $\\S$ 1. Standard MLR Model"
   ]
  },
  {
   "cell_type": "code",
   "execution_count": 1,
   "metadata": {},
   "outputs": [
    {
     "name": "stderr",
     "output_type": "stream",
     "text": [
      "-- Attaching packages --------------------------------------- tidyverse 1.2.1 --\n",
      "v ggplot2 3.2.1     v purrr   0.3.2\n",
      "v tibble  2.1.3     v dplyr   0.8.3\n",
      "v tidyr   1.0.0     v stringr 1.4.0\n",
      "v readr   1.3.1     v forcats 0.4.0\n",
      "-- Conflicts ------------------------------------------ tidyverse_conflicts() --\n",
      "x dplyr::filter() masks stats::filter()\n",
      "x dplyr::lag()    masks stats::lag()\n",
      "Warning message:\n",
      "\"package 'latex2exp' was built under R version 3.6.3\"Parsed with column specification:\n",
      "cols(\n",
      "  X1 = col_double(),\n",
      "  X2 = col_double(),\n",
      "  X3 = col_double(),\n",
      "  X4 = col_double()\n",
      ")\n"
     ]
    }
   ],
   "source": [
    "library(tidyverse)\n",
    "library(latex2exp)\n",
    "df<- read_table2(\"C:/Users/Lee Sak Park/Desktop/Spring 2020/Linear Model/Notes/data_set.txt\", \n",
    "                 col_names = FALSE)\n",
    "colnames(df) = c(\"Y\",'X1','X2','X3')\n",
    "y = df$Y %>% as.matrix\n",
    "J = rep(1, length(y))\n",
    "X = cbind(J, df[c('X1','X2','X3')]) %>% as.matrix\n",
    "X_transform_raw = df[c('X1','X2','X3')] %>% as.matrix\n",
    "colnames(y) = NULL\n",
    "colnames(X) = NULL\n",
    "colnames(X_transform_raw) = NULL"
   ]
  },
  {
   "cell_type": "markdown",
   "metadata": {},
   "source": [
    "__Goal:__\n",
    "\n",
    "transfrom X and Y so that we can tackle the following problems;\n",
    "\n",
    "- determinant of $(X^T X)^{-1}$ happens to be very very close to 0\n",
    "\n",
    "- Predictors have different orders of magnitude $\\Rightarrow$ hard to interprete $B$'s\n",
    "\n",
    "__Transformation__:\n",
    "\n",
    "$y_i^* = \\frac{1}{\\sqrt{n-1}} \\big( \\frac{y_i - \\bar{y}}{S_y} \\big)$, where $S_y = \\sqrt{\\frac{\\Sigma_{i=1}^{n} (y_i - \\bar{y})^2}{n-1}}$\n",
    "\n",
    "$X_{ik}^* = \\frac{1}{\\sqrt{n-1}} \\big( \\frac{X_{ik} - \\bar{X_k}}{S_{X_k}} \\big)$, where $S_{X_k} = \\sqrt{\\frac{\\Sigma_{i=1}^{n} (X_{ik} - \\bar{X_k})^2}{n-1}}$, for k $\\in$ {__1__,2, ... , p-1}"
   ]
  },
  {
   "cell_type": "code",
   "execution_count": 2,
   "metadata": {},
   "outputs": [],
   "source": [
    "transformation = function(mat){\n",
    "    means = mat %>% apply(2, mean)\n",
    "    sds = mat %>% apply(2, sd)\n",
    "    for(k in 1:dim(mat)[2]){\n",
    "        vec = mat[,k]\n",
    "        vec = (vec-means[k])/sds[k]/sqrt(length(vec)-1)\n",
    "        mat[,k] = vec\n",
    "    }\n",
    "    return(mat)\n",
    "}"
   ]
  },
  {
   "cell_type": "code",
   "execution_count": 3,
   "metadata": {},
   "outputs": [],
   "source": [
    "X_transformed = X_transform_raw %>% transformation()\n",
    "y_transformed = y %>% transformation()"
   ]
  },
  {
   "cell_type": "markdown",
   "metadata": {},
   "source": [
    "__$r_{XX}$ and $r_{XY}$__\n",
    "\n",
    "\n",
    "* $(X^{*})^T X^* = r_{XX}$\n",
    "\n",
    "* $(X^{*})^T Y = r_{XY}$"
   ]
  },
  {
   "cell_type": "code",
   "execution_count": 4,
   "metadata": {},
   "outputs": [
    {
     "data": {
      "text/html": [
       "<table>\n",
       "<tbody>\n",
       "\t<tr><td>TRUE</td><td>TRUE</td><td>TRUE</td></tr>\n",
       "\t<tr><td>TRUE</td><td>TRUE</td><td>TRUE</td></tr>\n",
       "\t<tr><td>TRUE</td><td>TRUE</td><td>TRUE</td></tr>\n",
       "</tbody>\n",
       "</table>\n"
      ],
      "text/latex": [
       "\\begin{tabular}{lll}\n",
       "\t TRUE & TRUE & TRUE\\\\\n",
       "\t TRUE & TRUE & TRUE\\\\\n",
       "\t TRUE & TRUE & TRUE\\\\\n",
       "\\end{tabular}\n"
      ],
      "text/markdown": [
       "\n",
       "| TRUE | TRUE | TRUE |\n",
       "| TRUE | TRUE | TRUE |\n",
       "| TRUE | TRUE | TRUE |\n",
       "\n"
      ],
      "text/plain": [
       "     [,1] [,2] [,3]\n",
       "[1,] TRUE TRUE TRUE\n",
       "[2,] TRUE TRUE TRUE\n",
       "[3,] TRUE TRUE TRUE"
      ]
     },
     "metadata": {},
     "output_type": "display_data"
    }
   ],
   "source": [
    "Xt_X = t(X_transformed) %*% X_transformed\n",
    "Xt_X %>% round(2) ==cor(X_transform_raw)%>% round(2)"
   ]
  },
  {
   "cell_type": "code",
   "execution_count": 5,
   "metadata": {},
   "outputs": [
    {
     "data": {
      "text/html": [
       "<table>\n",
       "<tbody>\n",
       "\t<tr><td>TRUE</td><td>TRUE</td><td>TRUE</td></tr>\n",
       "</tbody>\n",
       "</table>\n"
      ],
      "text/latex": [
       "\\begin{tabular}{lll}\n",
       "\t TRUE & TRUE & TRUE\\\\\n",
       "\\end{tabular}\n"
      ],
      "text/markdown": [
       "\n",
       "| TRUE | TRUE | TRUE |\n",
       "\n"
      ],
      "text/plain": [
       "     [,1] [,2] [,3]\n",
       "[1,] TRUE TRUE TRUE"
      ]
     },
     "metadata": {},
     "output_type": "display_data"
    }
   ],
   "source": [
    "Xt_y = t(X_transformed) %*% y_transformed\n",
    "(Xt_y %>% round(2) == cor(X_transform_raw, y) %>% round(2)) %>% t()"
   ]
  },
  {
   "cell_type": "markdown",
   "metadata": {},
   "source": [
    "For standared regression, $\\hat{B^*} = [r_{XX}]^{-1} r_{XY}$"
   ]
  },
  {
   "cell_type": "code",
   "execution_count": 6,
   "metadata": {},
   "outputs": [],
   "source": [
    "df1 = cbind(y_transformed, X_transformed) %>% as.data.frame()\n",
    "colnames(df1) = c(\"Y\",\"X1\",\"X2\",\"X3\")\n",
    "std.model = lm(Y~X1+X2+X3-1, data = df1)"
   ]
  },
  {
   "attachments": {
    "image.png": {
     "image/png": "[encoded data removed]"
    }
   },
   "cell_type": "markdown",
   "metadata": {},
   "source": [
    "__summary(std.model) vs. solve(Xt_X) %$*$% Xt_y__\n",
    "\n",
    "![image.png](attachment:image.png)"
   ]
  },
  {
   "cell_type": "markdown",
   "metadata": {},
   "source": [
    "__Note: $\\hat{B_k} = \\frac{S_y}{S_{X_k}} \\hat{B}_k^{*}$__ for k $\\in$ {1,2, ... , p-1}"
   ]
  },
  {
   "cell_type": "code",
   "execution_count": 7,
   "metadata": {},
   "outputs": [
    {
     "data": {
      "text/html": [
       "<ol class=list-inline>\n",
       "\t<li>0.000787080381845568</li>\n",
       "\t<li>-13.1660191870869</li>\n",
       "\t<li>623.554480738171</li>\n",
       "</ol>\n"
      ],
      "text/latex": [
       "\\begin{enumerate*}\n",
       "\\item 0.000787080381845568\n",
       "\\item -13.1660191870869\n",
       "\\item 623.554480738171\n",
       "\\end{enumerate*}\n"
      ],
      "text/markdown": [
       "1. 0.000787080381845568\n",
       "2. -13.1660191870869\n",
       "3. 623.554480738171\n",
       "\n",
       "\n"
      ],
      "text/plain": [
       "[1]  7.870804e-04 -1.316602e+01  6.235545e+02"
      ]
     },
     "metadata": {},
     "output_type": "display_data"
    }
   ],
   "source": [
    "model = lm(Y~., data = df)\n",
    "(model$coefficients %>% t)[2:4]"
   ]
  },
  {
   "cell_type": "code",
   "execution_count": 8,
   "metadata": {},
   "outputs": [
    {
     "data": {
      "text/html": [
       "<ol class=list-inline>\n",
       "\t<li>0.000787080381845568</li>\n",
       "\t<li>-13.1660191870869</li>\n",
       "\t<li>623.554480738171</li>\n",
       "</ol>\n"
      ],
      "text/latex": [
       "\\begin{enumerate*}\n",
       "\\item 0.000787080381845568\n",
       "\\item -13.1660191870869\n",
       "\\item 623.554480738171\n",
       "\\end{enumerate*}\n"
      ],
      "text/markdown": [
       "1. 0.000787080381845568\n",
       "2. -13.1660191870869\n",
       "3. 623.554480738171\n",
       "\n",
       "\n"
      ],
      "text/plain": [
       "[1]  7.870804e-04 -1.316602e+01  6.235545e+02"
      ]
     },
     "metadata": {},
     "output_type": "display_data"
    }
   ],
   "source": [
    "B_ast = (solve(Xt_X) %∗% Xt_y)\n",
    "sd(y)/(X_transform_raw %>% apply(2, sd)) * B_ast   %>% t %>% as.vector"
   ]
  },
  {
   "cell_type": "markdown",
   "metadata": {},
   "source": [
    "### $\\S$ 2. Polynomial Regression\n",
    "\n",
    "<span>&#8251;</span> __interaction regression model will be skipped__"
   ]
  },
  {
   "cell_type": "markdown",
   "metadata": {},
   "source": [
    "__centralization vs raw__\n",
    "\n",
    "__Conclusion__: centralize non-categorical variables"
   ]
  },
  {
   "cell_type": "code",
   "execution_count": 9,
   "metadata": {},
   "outputs": [],
   "source": [
    "df2 = df\n",
    "x2 = df2$X1^2\n",
    "df2['Y'] = .0002*df2[\"X1\"] + .000005*x2 + runif(length(df2$Y), -100,100)+rnorm(length(df2$Y), 0, 2000)\n",
    "df2['X12'] = df2$X1^2\n",
    "p_model = lm(Y~ ., data = df2)"
   ]
  },
  {
   "cell_type": "code",
   "execution_count": 10,
   "metadata": {},
   "outputs": [
    {
     "data": {
      "text/html": [
       "<strong>$coefficients</strong> = <table>\n",
       "<thead><tr><th></th><th scope=col>Estimate</th><th scope=col>Std. Error</th><th scope=col>t value</th><th scope=col>Pr(&gt;|t|)</th></tr></thead>\n",
       "<tbody>\n",
       "\t<tr><th scope=row>(Intercept)</th><td>-8.305441e+03</td><td>1.075457e+04 </td><td>-0.7722708   </td><td>4.438202e-01 </td></tr>\n",
       "\t<tr><th scope=row>X1</th><td> 3.873226e-02</td><td>6.063485e-02 </td><td> 0.6387788   </td><td>5.260677e-01 </td></tr>\n",
       "\t<tr><th scope=row>X2</th><td> 2.805235e+02</td><td>3.877167e+02 </td><td> 0.7235271   </td><td>4.729419e-01 </td></tr>\n",
       "\t<tr><th scope=row>X3</th><td> 1.375801e+03</td><td>1.071857e+03 </td><td> 1.2835677   </td><td>2.055857e-01 </td></tr>\n",
       "\t<tr><th scope=row>X12</th><td> 4.939392e-06</td><td>8.956387e-08 </td><td>55.1493810   </td><td>2.249865e-44 </td></tr>\n",
       "</tbody>\n",
       "</table>\n"
      ],
      "text/latex": [
       "\\textbf{\\$coefficients} = \\begin{tabular}{r|llll}\n",
       "  & Estimate & Std. Error & t value & Pr(>\\textbar{}t\\textbar{})\\\\\n",
       "\\hline\n",
       "\t(Intercept) & -8.305441e+03 & 1.075457e+04  & -0.7722708    & 4.438202e-01 \\\\\n",
       "\tX1 &  3.873226e-02 & 6.063485e-02  &  0.6387788    & 5.260677e-01 \\\\\n",
       "\tX2 &  2.805235e+02 & 3.877167e+02  &  0.7235271    & 4.729419e-01 \\\\\n",
       "\tX3 &  1.375801e+03 & 1.071857e+03  &  1.2835677    & 2.055857e-01 \\\\\n",
       "\tX12 &  4.939392e-06 & 8.956387e-08  & 55.1493810    & 2.249865e-44 \\\\\n",
       "\\end{tabular}\n"
      ],
      "text/markdown": [
       "**$coefficients** = \n",
       "| <!--/--> | Estimate | Std. Error | t value | Pr(>|t|) |\n",
       "|---|---|---|---|---|\n",
       "| (Intercept) | -8.305441e+03 | 1.075457e+04  | -0.7722708    | 4.438202e-01  |\n",
       "| X1 |  3.873226e-02 | 6.063485e-02  |  0.6387788    | 5.260677e-01  |\n",
       "| X2 |  2.805235e+02 | 3.877167e+02  |  0.7235271    | 4.729419e-01  |\n",
       "| X3 |  1.375801e+03 | 1.071857e+03  |  1.2835677    | 2.055857e-01  |\n",
       "| X12 |  4.939392e-06 | 8.956387e-08  | 55.1493810    | 2.249865e-44  |\n",
       "\n"
      ],
      "text/plain": [
       "$coefficients\n",
       "                 Estimate   Std. Error    t value     Pr(>|t|)\n",
       "(Intercept) -8.305441e+03 1.075457e+04 -0.7722708 4.438202e-01\n",
       "X1           3.873226e-02 6.063485e-02  0.6387788 5.260677e-01\n",
       "X2           2.805235e+02 3.877167e+02  0.7235271 4.729419e-01\n",
       "X3           1.375801e+03 1.071857e+03  1.2835677 2.055857e-01\n",
       "X12          4.939392e-06 8.956387e-08 55.1493810 2.249865e-44\n"
      ]
     },
     "metadata": {},
     "output_type": "display_data"
    }
   ],
   "source": [
    "summary(p_model)[4]"
   ]
  },
  {
   "cell_type": "code",
   "execution_count": 11,
   "metadata": {},
   "outputs": [],
   "source": [
    "df3 = df2\n",
    "df3['X1'] = (df3['X1']-mean(df3$X1))\n",
    "df3['X2']= (df3['X2']-mean(df3$X2))\n",
    "df3['X12'] = df3$X1^2"
   ]
  },
  {
   "cell_type": "code",
   "execution_count": 12,
   "metadata": {},
   "outputs": [
    {
     "data": {
      "text/html": [
       "<strong>$coefficients</strong> = <table>\n",
       "<thead><tr><th></th><th scope=col>Estimate</th><th scope=col>Std. Error</th><th scope=col>t value</th><th scope=col>Pr(&gt;|t|)</th></tr></thead>\n",
       "<tbody>\n",
       "\t<tr><th scope=row>(Intercept)</th><td>4.580487e+05 </td><td>4.240975e+02 </td><td>1080.0552730 </td><td>6.102629e-105</td></tr>\n",
       "\t<tr><th scope=row>X1</th><td>3.028972e+00 </td><td>8.599298e-03 </td><td> 352.2348177 </td><td> 4.497560e-82</td></tr>\n",
       "\t<tr><th scope=row>X2</th><td>2.805235e+02 </td><td>3.877167e+02 </td><td>   0.7235271 </td><td> 4.729419e-01</td></tr>\n",
       "\t<tr><th scope=row>X3</th><td>1.375801e+03 </td><td>1.071857e+03 </td><td>   1.2835677 </td><td> 2.055857e-01</td></tr>\n",
       "\t<tr><th scope=row>X12</th><td>4.939392e-06 </td><td>8.956387e-08 </td><td>  55.1493810 </td><td> 2.249865e-44</td></tr>\n",
       "</tbody>\n",
       "</table>\n"
      ],
      "text/latex": [
       "\\textbf{\\$coefficients} = \\begin{tabular}{r|llll}\n",
       "  & Estimate & Std. Error & t value & Pr(>\\textbar{}t\\textbar{})\\\\\n",
       "\\hline\n",
       "\t(Intercept) & 4.580487e+05  & 4.240975e+02  & 1080.0552730  & 6.102629e-105\\\\\n",
       "\tX1 & 3.028972e+00  & 8.599298e-03  &  352.2348177  &  4.497560e-82\\\\\n",
       "\tX2 & 2.805235e+02  & 3.877167e+02  &    0.7235271  &  4.729419e-01\\\\\n",
       "\tX3 & 1.375801e+03  & 1.071857e+03  &    1.2835677  &  2.055857e-01\\\\\n",
       "\tX12 & 4.939392e-06  & 8.956387e-08  &   55.1493810  &  2.249865e-44\\\\\n",
       "\\end{tabular}\n"
      ],
      "text/markdown": [
       "**$coefficients** = \n",
       "| <!--/--> | Estimate | Std. Error | t value | Pr(>|t|) |\n",
       "|---|---|---|---|---|\n",
       "| (Intercept) | 4.580487e+05  | 4.240975e+02  | 1080.0552730  | 6.102629e-105 |\n",
       "| X1 | 3.028972e+00  | 8.599298e-03  |  352.2348177  |  4.497560e-82 |\n",
       "| X2 | 2.805235e+02  | 3.877167e+02  |    0.7235271  |  4.729419e-01 |\n",
       "| X3 | 1.375801e+03  | 1.071857e+03  |    1.2835677  |  2.055857e-01 |\n",
       "| X12 | 4.939392e-06  | 8.956387e-08  |   55.1493810  |  2.249865e-44 |\n",
       "\n"
      ],
      "text/plain": [
       "$coefficients\n",
       "                Estimate   Std. Error      t value      Pr(>|t|)\n",
       "(Intercept) 4.580487e+05 4.240975e+02 1080.0552730 6.102629e-105\n",
       "X1          3.028972e+00 8.599298e-03  352.2348177  4.497560e-82\n",
       "X2          2.805235e+02 3.877167e+02    0.7235271  4.729419e-01\n",
       "X3          1.375801e+03 1.071857e+03    1.2835677  2.055857e-01\n",
       "X12         4.939392e-06 8.956387e-08   55.1493810  2.249865e-44\n"
      ]
     },
     "metadata": {},
     "output_type": "display_data"
    }
   ],
   "source": [
    "p_model1 = lm(Y~ ., data = df3)\n",
    "summary(p_model1)[4]"
   ]
  },
  {
   "cell_type": "code",
   "execution_count": 13,
   "metadata": {},
   "outputs": [
    {
     "data": {
      "text/html": [
       "<table>\n",
       "<thead><tr><th></th><th scope=col>Df</th><th scope=col>Sum Sq</th><th scope=col>Mean Sq</th><th scope=col>F value</th><th scope=col>Pr(&gt;F)</th></tr></thead>\n",
       "<tbody>\n",
       "\t<tr><th scope=row>X1</th><td> 1          </td><td>1.774882e+12</td><td>1.774882e+12</td><td>313924.6918 </td><td>1.517000e-91</td></tr>\n",
       "\t<tr><th scope=row>X2</th><td> 1          </td><td>6.806536e+08</td><td>6.806536e+08</td><td>   120.3877 </td><td>1.474177e-14</td></tr>\n",
       "\t<tr><th scope=row>X3</th><td> 1          </td><td>1.305425e+09</td><td>1.305425e+09</td><td>   230.8916 </td><td>9.231173e-20</td></tr>\n",
       "\t<tr><th scope=row>X12</th><td> 1          </td><td>1.719591e+10</td><td>1.719591e+10</td><td>  3041.4542 </td><td>2.249865e-44</td></tr>\n",
       "\t<tr><th scope=row>Residuals</th><td>47          </td><td>2.657307e+08</td><td>5.653845e+06</td><td>         NA </td><td>          NA</td></tr>\n",
       "</tbody>\n",
       "</table>\n"
      ],
      "text/latex": [
       "\\begin{tabular}{r|lllll}\n",
       "  & Df & Sum Sq & Mean Sq & F value & Pr(>F)\\\\\n",
       "\\hline\n",
       "\tX1 &  1           & 1.774882e+12 & 1.774882e+12 & 313924.6918  & 1.517000e-91\\\\\n",
       "\tX2 &  1           & 6.806536e+08 & 6.806536e+08 &    120.3877  & 1.474177e-14\\\\\n",
       "\tX3 &  1           & 1.305425e+09 & 1.305425e+09 &    230.8916  & 9.231173e-20\\\\\n",
       "\tX12 &  1           & 1.719591e+10 & 1.719591e+10 &   3041.4542  & 2.249865e-44\\\\\n",
       "\tResiduals & 47           & 2.657307e+08 & 5.653845e+06 &          NA  &           NA\\\\\n",
       "\\end{tabular}\n"
      ],
      "text/markdown": [
       "\n",
       "| <!--/--> | Df | Sum Sq | Mean Sq | F value | Pr(>F) |\n",
       "|---|---|---|---|---|---|\n",
       "| X1 |  1           | 1.774882e+12 | 1.774882e+12 | 313924.6918  | 1.517000e-91 |\n",
       "| X2 |  1           | 6.806536e+08 | 6.806536e+08 |    120.3877  | 1.474177e-14 |\n",
       "| X3 |  1           | 1.305425e+09 | 1.305425e+09 |    230.8916  | 9.231173e-20 |\n",
       "| X12 |  1           | 1.719591e+10 | 1.719591e+10 |   3041.4542  | 2.249865e-44 |\n",
       "| Residuals | 47           | 2.657307e+08 | 5.653845e+06 |          NA  |           NA |\n",
       "\n"
      ],
      "text/plain": [
       "          Df Sum Sq       Mean Sq      F value     Pr(>F)      \n",
       "X1         1 1.774882e+12 1.774882e+12 313924.6918 1.517000e-91\n",
       "X2         1 6.806536e+08 6.806536e+08    120.3877 1.474177e-14\n",
       "X3         1 1.305425e+09 1.305425e+09    230.8916 9.231173e-20\n",
       "X12        1 1.719591e+10 1.719591e+10   3041.4542 2.249865e-44\n",
       "Residuals 47 2.657307e+08 5.653845e+06          NA           NA"
      ]
     },
     "metadata": {},
     "output_type": "display_data"
    }
   ],
   "source": [
    "anova(p_model)"
   ]
  },
  {
   "cell_type": "code",
   "execution_count": 14,
   "metadata": {},
   "outputs": [
    {
     "data": {
      "text/html": [
       "<table>\n",
       "<thead><tr><th></th><th scope=col>Df</th><th scope=col>Sum Sq</th><th scope=col>Mean Sq</th><th scope=col>F value</th><th scope=col>Pr(&gt;F)</th></tr></thead>\n",
       "<tbody>\n",
       "\t<tr><th scope=row>X1</th><td> 1          </td><td>1.774882e+12</td><td>1.774882e+12</td><td>313924.6918 </td><td>1.517000e-91</td></tr>\n",
       "\t<tr><th scope=row>X2</th><td> 1          </td><td>6.806536e+08</td><td>6.806536e+08</td><td>   120.3877 </td><td>1.474177e-14</td></tr>\n",
       "\t<tr><th scope=row>X3</th><td> 1          </td><td>1.305425e+09</td><td>1.305425e+09</td><td>   230.8916 </td><td>9.231173e-20</td></tr>\n",
       "\t<tr><th scope=row>X12</th><td> 1          </td><td>1.719591e+10</td><td>1.719591e+10</td><td>  3041.4542 </td><td>2.249865e-44</td></tr>\n",
       "\t<tr><th scope=row>Residuals</th><td>47          </td><td>2.657307e+08</td><td>5.653845e+06</td><td>         NA </td><td>          NA</td></tr>\n",
       "</tbody>\n",
       "</table>\n"
      ],
      "text/latex": [
       "\\begin{tabular}{r|lllll}\n",
       "  & Df & Sum Sq & Mean Sq & F value & Pr(>F)\\\\\n",
       "\\hline\n",
       "\tX1 &  1           & 1.774882e+12 & 1.774882e+12 & 313924.6918  & 1.517000e-91\\\\\n",
       "\tX2 &  1           & 6.806536e+08 & 6.806536e+08 &    120.3877  & 1.474177e-14\\\\\n",
       "\tX3 &  1           & 1.305425e+09 & 1.305425e+09 &    230.8916  & 9.231173e-20\\\\\n",
       "\tX12 &  1           & 1.719591e+10 & 1.719591e+10 &   3041.4542  & 2.249865e-44\\\\\n",
       "\tResiduals & 47           & 2.657307e+08 & 5.653845e+06 &          NA  &           NA\\\\\n",
       "\\end{tabular}\n"
      ],
      "text/markdown": [
       "\n",
       "| <!--/--> | Df | Sum Sq | Mean Sq | F value | Pr(>F) |\n",
       "|---|---|---|---|---|---|\n",
       "| X1 |  1           | 1.774882e+12 | 1.774882e+12 | 313924.6918  | 1.517000e-91 |\n",
       "| X2 |  1           | 6.806536e+08 | 6.806536e+08 |    120.3877  | 1.474177e-14 |\n",
       "| X3 |  1           | 1.305425e+09 | 1.305425e+09 |    230.8916  | 9.231173e-20 |\n",
       "| X12 |  1           | 1.719591e+10 | 1.719591e+10 |   3041.4542  | 2.249865e-44 |\n",
       "| Residuals | 47           | 2.657307e+08 | 5.653845e+06 |          NA  |           NA |\n",
       "\n"
      ],
      "text/plain": [
       "          Df Sum Sq       Mean Sq      F value     Pr(>F)      \n",
       "X1         1 1.774882e+12 1.774882e+12 313924.6918 1.517000e-91\n",
       "X2         1 6.806536e+08 6.806536e+08    120.3877 1.474177e-14\n",
       "X3         1 1.305425e+09 1.305425e+09    230.8916 9.231173e-20\n",
       "X12        1 1.719591e+10 1.719591e+10   3041.4542 2.249865e-44\n",
       "Residuals 47 2.657307e+08 5.653845e+06          NA           NA"
      ]
     },
     "metadata": {},
     "output_type": "display_data"
    }
   ],
   "source": [
    "anova(p_model1)"
   ]
  },
  {
   "cell_type": "markdown",
   "metadata": {},
   "source": [
    "__Note 1__: centralization does not change Sequential Sum of Squares because the column space of X does not change by centralization\n",
    "\n",
    "__Note 2__: However, by doing centralization, we get more accurate $\\hat{B}$'s"
   ]
  },
  {
   "cell_type": "markdown",
   "metadata": {},
   "source": [
    "### $\\S$ 3. Weighted Least Squares\n"
   ]
  },
  {
   "cell_type": "code",
   "execution_count": 15,
   "metadata": {},
   "outputs": [],
   "source": [
    "gen_var = function(z=NA){\n",
    "    f = function(x){\n",
    "        return(1+x+rnorm(1, 0, x))\n",
    "    }\n",
    "    x1 = rep(1:10, each = 100)\n",
    "    y1 = x1 %>% sapply(f)\n",
    "    result = list(X= x1,Y = y1)\n",
    "    return(result)\n",
    "}"
   ]
  },
  {
   "cell_type": "code",
   "execution_count": 16,
   "metadata": {},
   "outputs": [],
   "source": [
    "# intercepts and slopes will store intercepts and slopes of each models from each simulations\n",
    "intercepts = t(data.frame(rep(NA,3)))\n",
    "colnames(intercepts) = c(\"ols\",\"wls1\",\"wls2\")\n",
    "rownames(intercepts) = NULL\n",
    "\n",
    "slopes = t(data.frame(rep(NA,3)))\n",
    "colnames(intercepts) = c(\"ols\",\"wls1\",\"wls2\")\n",
    "rownames(intercepts) = NULL"
   ]
  },
  {
   "cell_type": "code",
   "execution_count": 17,
   "metadata": {},
   "outputs": [],
   "source": [
    "#1000 simulations\n",
    "for(r in 1:1000){\n",
    "    data = gen_var()\n",
    "    y = data$Y\n",
    "    x = data$X\n",
    "    model1 = lm(y~x)\n",
    "    model2 = lm(y~x, weights = 1/x)\n",
    "    model3 = lm(y~x, weights = 1/x^2)\n",
    "    intercept = c(model1$coefficients[[1]],model2$coefficients[[1]],model3$coefficients[[1]])\n",
    "    slope = c(model1$coefficients[[2]],model2$coefficients[[2]],model3$coefficients[[2]])\n",
    "    intercepts = rbind(intercepts, intercept)\n",
    "    slopes = rbind(slopes, slope)\n",
    "}\n",
    "intercepts = intercepts[c(-1),]\n",
    "slopes = slopes[c(-1),]\n",
    "rownames(intercepts) = NULL\n",
    "rownames(slopes) = NULL"
   ]
  },
  {
   "cell_type": "code",
   "execution_count": 18,
   "metadata": {},
   "outputs": [],
   "source": [
    "find_ends = function(vec){\n",
    "    return(c(quantile(vec, .025)[[1]], quantile(vec, .975)[[1]]))\n",
    "}\n",
    "ols_slopes = slopes[,1]%>% find_ends()\n",
    "wls1_slopes = slopes[,2]%>% find_ends()\n",
    "wls2_slopes = slopes[,3]%>% find_ends()"
   ]
  },
  {
   "cell_type": "code",
   "execution_count": 19,
   "metadata": {},
   "outputs": [],
   "source": [
    "# result : data.frame for the lower and upper bounds of b1\n",
    "\n",
    "# means : data.frame for the means of each model_slopes\n",
    "\n",
    "result = tibble(ols = ols_slopes, wls1 = wls1_slopes,\n",
    "                    wls2 = wls2_slopes) \n",
    "\n",
    "means = tibble(ols = mean(slopes[,1]),wls1 = mean(slopes[,2]),wls2 = mean(slopes[,3]))"
   ]
  },
  {
   "cell_type": "code",
   "execution_count": 20,
   "metadata": {},
   "outputs": [],
   "source": [
    "# preparation to create a plot\n",
    "\n",
    "result = result %>% gather(colnames(result), key = \"model\", value = \"bounds\")\n",
    "result['y'] = rep(1:3, each = 2)\n",
    "\n",
    "means = means %>% gather(colnames(means), key = \"model\", value = \"averages\")\n",
    "means['y'] = seq(1:3)"
   ]
  },
  {
   "cell_type": "code",
   "execution_count": 21,
   "metadata": {},
   "outputs": [
    {
     "data": {
      "image/png": "[encoded data removed]",
      "text/plain": [
       "plot without title"
      ]
     },
     "metadata": {},
     "output_type": "display_data"
    }
   ],
   "source": [
    "# set-up the size of the plot in jupyer notebook\n",
    "options(repr.plot.width=10, repr.plot.height=3)\n",
    "\n",
    "# generating the plot showing both the intervals and the means\n",
    "ggplot() +\n",
    "# line graph for intervals\n",
    "    geom_line(data = result, aes(x = bounds, y = y, color = model), size = 1)+\n",
    "# scatter plot for the means, which will be placed along the lines for each model\n",
    "    geom_point(data = means, aes(x = averages, y = y, color = model), size = 3, shape = 3)+\n",
    "# editing labels\n",
    "    labs(x = \"2.5% ~ 97.5% of b1\",\n",
    "         y = \"models\",    \n",
    "         title = \"Simulation results\", \n",
    "         caption = \"created in 3/31/2020\")+\n",
    "# black-white theme\n",
    "    theme_bw()"
   ]
  }
 ],
 "metadata": {
  "kernelspec": {
   "display_name": "R",
   "language": "R",
   "name": "ir"
  },
  "language_info": {
   "codemirror_mode": "r",
   "file_extension": ".r",
   "mimetype": "text/x-r-source",
   "name": "R",
   "pygments_lexer": "r",
   "version": "3.6.1"
  }
 },
 "nbformat": 4,
 "nbformat_minor": 2
}
