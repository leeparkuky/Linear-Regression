{
 "cells": [
  {
   "cell_type": "markdown",
   "metadata": {},
   "source": [
    "## Chapter 10. Diagnostics of Regression Models"
   ]
  },
  {
   "cell_type": "code",
   "execution_count": null,
   "metadata": {},
   "outputs": [],
   "source": [
    "library(tidyverse)\n",
    "library(latex2exp)\n",
    "df<- read_table2(\"C:/Users/Lee Sak Park/Desktop/Spring 2020/Linear Model/Notes/data_set.txt\", \n",
    "                 col_names = FALSE)\n",
    "colnames(df) = c(\"Y\",'X1','X2','X3')\n",
    "y = df$Y %>% as.matrix\n",
    "J = rep(1, length(y))\n",
    "X = cbind(J, df[c('X1','X2','X3')]) %>% as.matrix\n",
    "colnames(y) = NULL\n",
    "colnames(X) = NULL"
   ]
  },
  {
   "cell_type": "markdown",
   "metadata": {},
   "source": [
    "### $\\S$10.1 Added-Variable Plots\n",
    "\n",
    "__Model1__ : $\\hat{Y}_i (X_2) = b_0 + b_2 X_{i2}$\n",
    "\n",
    "&nbsp; &nbsp; &nbsp; $\\rightarrow e_i (Y | X_2) = Y_i - \\hat{Y} (X_2)$\n",
    "\n",
    "\n",
    "__Model2__ : $\\hat{X}_{i1} (X_2) = b^*_0 + b^*_2 X_{i2}$\n",
    "\n",
    "&nbsp; &nbsp; &nbsp; $\\rightarrow e_i (X_1 | X_2) = X_{i1} - \\hat{X}_{i1} (X_2)$\n",
    "\n",
    "$\\Rightarrow$ draw the scatter plot between $e_i (Y | X_2)$ and $e_i (X_1 | X_2)$"
   ]
  },
  {
   "cell_type": "code",
   "execution_count": 2,
   "metadata": {},
   "outputs": [],
   "source": [
    "model1 = lm(Y~X2, data = df)\n",
    "model2 = lm(X1~X2, data = df)\n",
    "\n",
    "e_y = residuals(model1)\n",
    "e_x = residuals(model2)"
   ]
  },
  {
   "cell_type": "code",
   "execution_count": 3,
   "metadata": {},
   "outputs": [
    {
     "name": "stderr",
     "output_type": "stream",
     "text": [
      "Warning message in is.na(x):\n",
      "\"is.na() applied to non-(list or vector) of type 'expression'\""
     ]
    },
    {
     "data": {
      "image/png": "[encoded data removed]",
      "text/plain": [
       "plot without title"
      ]
     },
     "metadata": {},
     "output_type": "display_data"
    }
   ],
   "source": [
    "options(repr.plot.width=5, repr.plot.height=3)\n",
    "# ggplot\n",
    "ggplot()+\n",
    "geom_point(aes(x = e_x, y = e_y)) + \n",
    "xlab (TeX(\"$e(X_1 | X_2)$\")) +\n",
    "ylab (TeX(\"$e(y | X_1)$\"))+\n",
    "geom_abline(slope = coefficients(lm(e_y -1 ~ e_x))[[2]], color = \"red\", size = .8, alpha = .3) +\n",
    "annotate(geom=\"text\", x=0, y=50, label=TeX(\"$b_1 = .00091916$\"), color=\"red\", size = 2.5)"
   ]
  },
  {
   "cell_type": "markdown",
   "metadata": {},
   "source": [
    "<center> $e \\hat{(Y | X_2)} = b_1 \\cdot e(X_1 |X_2)  $</center>"
   ]
  },
  {
   "cell_type": "code",
   "execution_count": 4,
   "metadata": {},
   "outputs": [
    {
     "data": {
      "text/html": [
       "<table>\n",
       "<thead><tr><th></th><th scope=col>Df</th><th scope=col>Sum Sq</th><th scope=col>Mean Sq</th><th scope=col>F value</th><th scope=col>Pr(&gt;F)</th></tr></thead>\n",
       "<tbody>\n",
       "\t<tr><th scope=row>e_x</th><td> 1       </td><td> 130697.2</td><td>130697.24</td><td>2.207107 </td><td>0.1435318</td></tr>\n",
       "\t<tr><th scope=row>Residuals</th><td>51       </td><td>3020043.8</td><td> 59216.54</td><td>      NA </td><td>       NA</td></tr>\n",
       "</tbody>\n",
       "</table>\n"
      ],
      "text/latex": [
       "\\begin{tabular}{r|lllll}\n",
       "  & Df & Sum Sq & Mean Sq & F value & Pr(>F)\\\\\n",
       "\\hline\n",
       "\te\\_x &  1        &  130697.2 & 130697.24 & 2.207107  & 0.1435318\\\\\n",
       "\tResiduals & 51        & 3020043.8 &  59216.54 &       NA  &        NA\\\\\n",
       "\\end{tabular}\n"
      ],
      "text/markdown": [
       "\n",
       "| <!--/--> | Df | Sum Sq | Mean Sq | F value | Pr(>F) |\n",
       "|---|---|---|---|---|---|\n",
       "| e_x |  1        |  130697.2 | 130697.24 | 2.207107  | 0.1435318 |\n",
       "| Residuals | 51        | 3020043.8 |  59216.54 |       NA  |        NA |\n",
       "\n"
      ],
      "text/plain": [
       "          Df Sum Sq    Mean Sq   F value  Pr(>F)   \n",
       "e_x        1  130697.2 130697.24 2.207107 0.1435318\n",
       "Residuals 51 3020043.8  59216.54       NA        NA"
      ]
     },
     "metadata": {},
     "output_type": "display_data"
    }
   ],
   "source": [
    "anova(lm(e_y~0+ e_x))"
   ]
  },
  {
   "cell_type": "code",
   "execution_count": 5,
   "metadata": {},
   "outputs": [
    {
     "data": {
      "text/html": [
       "<table>\n",
       "<thead><tr><th></th><th scope=col>Df</th><th scope=col>Sum Sq</th><th scope=col>Mean Sq</th><th scope=col>F value</th><th scope=col>Pr(&gt;F)</th></tr></thead>\n",
       "<tbody>\n",
       "\t<tr><th scope=row>X2</th><td> 1        </td><td>  11394.92</td><td> 11394.92 </td><td>0.1848818 </td><td>0.6690961 </td></tr>\n",
       "\t<tr><th scope=row>X1</th><td> 1        </td><td> 130697.24</td><td>130697.24 </td><td>2.1205537 </td><td>0.1517121 </td></tr>\n",
       "\t<tr><th scope=row>Residuals</th><td>49        </td><td>3020043.76</td><td> 61633.55 </td><td>       NA </td><td>       NA </td></tr>\n",
       "</tbody>\n",
       "</table>\n"
      ],
      "text/latex": [
       "\\begin{tabular}{r|lllll}\n",
       "  & Df & Sum Sq & Mean Sq & F value & Pr(>F)\\\\\n",
       "\\hline\n",
       "\tX2 &  1         &   11394.92 &  11394.92  & 0.1848818  & 0.6690961 \\\\\n",
       "\tX1 &  1         &  130697.24 & 130697.24  & 2.1205537  & 0.1517121 \\\\\n",
       "\tResiduals & 49         & 3020043.76 &  61633.55  &        NA  &        NA \\\\\n",
       "\\end{tabular}\n"
      ],
      "text/markdown": [
       "\n",
       "| <!--/--> | Df | Sum Sq | Mean Sq | F value | Pr(>F) |\n",
       "|---|---|---|---|---|---|\n",
       "| X2 |  1         |   11394.92 |  11394.92  | 0.1848818  | 0.6690961  |\n",
       "| X1 |  1         |  130697.24 | 130697.24  | 2.1205537  | 0.1517121  |\n",
       "| Residuals | 49         | 3020043.76 |  61633.55  |        NA  |        NA  |\n",
       "\n"
      ],
      "text/plain": [
       "          Df Sum Sq     Mean Sq   F value   Pr(>F)   \n",
       "X2         1   11394.92  11394.92 0.1848818 0.6690961\n",
       "X1         1  130697.24 130697.24 2.1205537 0.1517121\n",
       "Residuals 49 3020043.76  61633.55        NA        NA"
      ]
     },
     "metadata": {},
     "output_type": "display_data"
    }
   ],
   "source": [
    "anova(lm(Y ~ X2+ X1, data = df))"
   ]
  },
  {
   "cell_type": "markdown",
   "metadata": {},
   "source": [
    "__Note__: \"An added-variable plot only suggests the nature of the functional relation in which a predictor variable should be added to the regression model but does not provide an analytic expression of the relation\""
   ]
  },
  {
   "cell_type": "markdown",
   "metadata": {},
   "source": [
    "### $\\S$ 10.2 Outliers with respect to Y"
   ]
  },
  {
   "cell_type": "markdown",
   "metadata": {},
   "source": [
    "<font size = 3> __Studentized Residuals__ </font>\n",
    "\n",
    "estimator of the standard deviation of $e_i$:\n",
    "\n",
    "$S^2 \\{ e_i \\} = MSE \\cdot (1-h_{ii}) \\Rightarrow S \\{ e_i \\} = \\sqrt{MSE \\cdot (1-h_{ii})}$\n",
    "\n",
    "studentized residual ($r_i$) : \n",
    "\n",
    "$r_i = \\frac{e_i}{S \\{ e_i \\}} = \\frac{e_i}{\\sqrt{MSE \\cdot (1-h_{ii})}}$\n",
    "\n",
    "<font size = 3> __Deleted Residuals__ </font>\n",
    "\n",
    "$d_i = Y_i - \\hat{Y}_{i(i)}$, where $\\hat{Y}_{i(i)}$ is the expected value when the X levels are those of the i$^{th}$ case, __*after deleting the i$^{th}$ case*__\n",
    "\n",
    "$d_i = \\frac{e_i}{1-h_{ii}}$ and\n",
    "\n",
    "$S^2 \\{ d_i \\} = MSE_{(i)} \\cdot ( 1 + X^t_i (X^t_{(i)} X_{(i)})^{-1} X_i ) = \\frac{MSE_{(i)}}{1-h_{ii}}$\n",
    "\n",
    "Then, it follows that\n",
    "\n",
    "<center> $\\frac{d_i}{S \\{ d_i \\} }$ ~ $t_{n - p - 1}$  </center>\n",
    "\n",
    "<font size = 3> __Another equation for $t_i$__ </font>\n",
    "\n",
    "$ t_i = \\frac{d_i}{S \\{ d_i \\} } = \\frac{e_i}{\\sqrt{ MSE_{(i)} \\cdot (1-h_{ii})  }} = e_i \\big[ \\frac{n-p-1}{SSE \\cdot (1-h_{ii}) - e_i^2}   \\big]^{\\frac{1}{2}}$\n",
    "\n",
    "$\\because (n-p) \\cdot MSE = (n-p-1) \\cdot MSE_{(i)} + \\frac{e_i^2}{ (1-h_{ii})}$\n",
    "\n",
    "\n",
    "<font size = 3.5> __For the outlier test, use the Bonferroni critical value, $t_{(1- \\alpha/2n ; n-p-1)}$__ </font>"
   ]
  },
  {
   "cell_type": "code",
   "execution_count": 6,
   "metadata": {},
   "outputs": [
    {
     "data": {
      "text/html": [
       "0"
      ],
      "text/latex": [
       "0"
      ],
      "text/markdown": [
       "0"
      ],
      "text/plain": [
       "[1] 0"
      ]
     },
     "metadata": {},
     "output_type": "display_data"
    }
   ],
   "source": [
    "# Define the variables\n",
    "model = lm(Y~., data = df)\n",
    "SSE = anova(model)[2] %>% sum\n",
    "e = residuals(model) %>% as.vector\n",
    "e_sq = residuals(model)^2 %>% as.vector\n",
    "H = X %*% solve(t(X) %*% X) %*% t(X)\n",
    "h = diag(H)\n",
    "num = 52-4-1 # n-p-1\n",
    "\n",
    "# Define t-values\n",
    "t = e*(num/(SSE*(1-h)-e_sq))^.5\n",
    "abs_t = abs(t)\n",
    "\n",
    "critical_values = rep(qt(1-.05/(2*52), num), length(h))\n",
    "\n",
    "#Find how many of the t's are greater than the critical values\n",
    "sum(t>critical_values)"
   ]
  },
  {
   "cell_type": "markdown",
   "metadata": {},
   "source": [
    "<font size = 3>  __$\\therefore$ We do not have an outlier with repect to Y__ </font>"
   ]
  }
 ],
 "metadata": {
  "kernelspec": {
   "display_name": "R",
   "language": "R",
   "name": "ir"
  },
  "language_info": {
   "codemirror_mode": "r",
   "file_extension": ".r",
   "mimetype": "text/x-r-source",
   "name": "R",
   "pygments_lexer": "r",
   "version": "3.6.1"
  }
 },
 "nbformat": 4,
 "nbformat_minor": 2
}
